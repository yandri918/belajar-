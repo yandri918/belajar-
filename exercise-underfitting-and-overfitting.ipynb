{
 "cells": [
  {
   "cell_type": "markdown",
   "id": "e474a91d",
   "metadata": {
    "papermill": {
     "duration": 0.003118,
     "end_time": "2025-05-08T12:08:05.926569",
     "exception": false,
     "start_time": "2025-05-08T12:08:05.923451",
     "status": "completed"
    },
    "tags": []
   },
   "source": [
    "**This notebook is an exercise in the [Introduction to Machine Learning](https://www.kaggle.com/learn/intro-to-machine-learning) course.  You can reference the tutorial at [this link](https://www.kaggle.com/dansbecker/underfitting-and-overfitting).**\n",
    "\n",
    "---\n"
   ]
  },
  {
   "cell_type": "markdown",
   "id": "813fa8eb",
   "metadata": {
    "papermill": {
     "duration": 0.002183,
     "end_time": "2025-05-08T12:08:05.931587",
     "exception": false,
     "start_time": "2025-05-08T12:08:05.929404",
     "status": "completed"
    },
    "tags": []
   },
   "source": [
    "## Recap\n",
    "You've built your first model, and now it's time to optimize the size of the tree to make better predictions. Run this cell to set up your coding environment where the previous step left off."
   ]
  },
  {
   "cell_type": "code",
   "execution_count": 1,
   "id": "38c3f51c",
   "metadata": {
    "execution": {
     "iopub.execute_input": "2025-05-08T12:08:05.938247Z",
     "iopub.status.busy": "2025-05-08T12:08:05.937489Z",
     "iopub.status.idle": "2025-05-08T12:08:09.882544Z",
     "shell.execute_reply": "2025-05-08T12:08:09.881482Z"
    },
    "papermill": {
     "duration": 3.950407,
     "end_time": "2025-05-08T12:08:09.884426",
     "exception": false,
     "start_time": "2025-05-08T12:08:05.934019",
     "status": "completed"
    },
    "tags": []
   },
   "outputs": [
    {
     "name": "stdout",
     "output_type": "stream",
     "text": [
      "Validation MAE: 29,653\n",
      "\n",
      "Setup complete\n"
     ]
    }
   ],
   "source": [
    "# Code you have previously used to load data\n",
    "import pandas as pd\n",
    "from sklearn.metrics import mean_absolute_error\n",
    "from sklearn.model_selection import train_test_split\n",
    "from sklearn.tree import DecisionTreeRegressor\n",
    "\n",
    "\n",
    "# Path of the file to read\n",
    "iowa_file_path = '../input/home-data-for-ml-course/train.csv'\n",
    "\n",
    "home_data = pd.read_csv(iowa_file_path)\n",
    "# Create target object and call it y\n",
    "y = home_data.SalePrice\n",
    "# Create X\n",
    "features = ['LotArea', 'YearBuilt', '1stFlrSF', '2ndFlrSF', 'FullBath', 'BedroomAbvGr', 'TotRmsAbvGrd']\n",
    "X = home_data[features]\n",
    "\n",
    "# Split into validation and training data\n",
    "train_X, val_X, train_y, val_y = train_test_split(X, y, random_state=1)\n",
    "\n",
    "# Specify Model\n",
    "iowa_model = DecisionTreeRegressor(random_state=1)\n",
    "# Fit Model\n",
    "iowa_model.fit(train_X, train_y)\n",
    "\n",
    "# Make validation predictions and calculate mean absolute error\n",
    "val_predictions = iowa_model.predict(val_X)\n",
    "val_mae = mean_absolute_error(val_predictions, val_y)\n",
    "print(\"Validation MAE: {:,.0f}\".format(val_mae))\n",
    "\n",
    "# Set up code checking\n",
    "from learntools.core import binder\n",
    "binder.bind(globals())\n",
    "from learntools.machine_learning.ex5 import *\n",
    "print(\"\\nSetup complete\")"
   ]
  },
  {
   "cell_type": "markdown",
   "id": "e8eb4d7d",
   "metadata": {
    "papermill": {
     "duration": 0.002446,
     "end_time": "2025-05-08T12:08:09.889678",
     "exception": false,
     "start_time": "2025-05-08T12:08:09.887232",
     "status": "completed"
    },
    "tags": []
   },
   "source": [
    "# Exercises\n",
    "You could write the function `get_mae` yourself. For now, we'll supply it. This is the same function you read about in the previous lesson. Just run the cell below."
   ]
  },
  {
   "cell_type": "code",
   "execution_count": 2,
   "id": "ea14bacc",
   "metadata": {
    "execution": {
     "iopub.execute_input": "2025-05-08T12:08:09.895916Z",
     "iopub.status.busy": "2025-05-08T12:08:09.895588Z",
     "iopub.status.idle": "2025-05-08T12:08:09.900645Z",
     "shell.execute_reply": "2025-05-08T12:08:09.899797Z"
    },
    "papermill": {
     "duration": 0.009906,
     "end_time": "2025-05-08T12:08:09.902099",
     "exception": false,
     "start_time": "2025-05-08T12:08:09.892193",
     "status": "completed"
    },
    "tags": []
   },
   "outputs": [],
   "source": [
    "def get_mae(max_leaf_nodes, train_X, val_X, train_y, val_y):\n",
    "    model = DecisionTreeRegressor(max_leaf_nodes=max_leaf_nodes, random_state=0)\n",
    "    model.fit(train_X, train_y)\n",
    "    preds_val = model.predict(val_X)\n",
    "    mae = mean_absolute_error(val_y, preds_val)\n",
    "    return(mae)"
   ]
  },
  {
   "cell_type": "markdown",
   "id": "d3f16968",
   "metadata": {
    "papermill": {
     "duration": 0.002324,
     "end_time": "2025-05-08T12:08:09.907087",
     "exception": false,
     "start_time": "2025-05-08T12:08:09.904763",
     "status": "completed"
    },
    "tags": []
   },
   "source": [
    "## Step 1: Compare Different Tree Sizes\n",
    "Write a loop that tries the following values for *max_leaf_nodes* from a set of possible values.\n",
    "\n",
    "Call the *get_mae* function on each value of max_leaf_nodes. Store the output in some way that allows you to select the value of `max_leaf_nodes` that gives the most accurate model on your data."
   ]
  },
  {
   "cell_type": "code",
   "execution_count": 3,
   "id": "8c006b9c",
   "metadata": {
    "execution": {
     "iopub.execute_input": "2025-05-08T12:08:09.914740Z",
     "iopub.status.busy": "2025-05-08T12:08:09.914449Z",
     "iopub.status.idle": "2025-05-08T12:08:09.922693Z",
     "shell.execute_reply": "2025-05-08T12:08:09.921834Z"
    },
    "papermill": {
     "duration": 0.014699,
     "end_time": "2025-05-08T12:08:09.924194",
     "exception": false,
     "start_time": "2025-05-08T12:08:09.909495",
     "status": "completed"
    },
    "tags": []
   },
   "outputs": [
    {
     "data": {
      "application/javascript": [
       "parent.postMessage({\"jupyterEvent\": \"custom.exercise_interaction\", \"data\": {\"outcomeType\": 4, \"interactionType\": 1, \"questionType\": 1, \"questionId\": \"1_BestTreeSize\", \"learnToolsVersion\": \"0.3.5\", \"valueTowardsCompletion\": 0.0, \"failureMessage\": \"\", \"exceptionClass\": \"\", \"trace\": \"\"}}, \"*\")"
      ],
      "text/plain": [
       "<IPython.core.display.Javascript object>"
      ]
     },
     "metadata": {},
     "output_type": "display_data"
    },
    {
     "data": {
      "text/markdown": [
       "<span style=\"color:#ccaa33\">Check:</span> When you've updated the starter code, `check()` will tell you whether your code is correct. You need to update the code that creates variable `best_tree_size`"
      ],
      "text/plain": [
       "Check: When you've updated the starter code, `check()` will tell you whether your code is correct. You need to update the code that creates variable `best_tree_size`"
      ]
     },
     "metadata": {},
     "output_type": "display_data"
    }
   ],
   "source": [
    "candidate_max_leaf_nodes = [5, 25, 50, 100, 250, 500]\n",
    "# Write loop to find the ideal tree size from candidate_max_leaf_nodes\n",
    "_\n",
    "\n",
    "# Store the best value of max_leaf_nodes (it will be either 5, 25, 50, 100, 250 or 500)\n",
    "best_tree_size = ____\n",
    "\n",
    "# Check your answer\n",
    "step_1.check()"
   ]
  },
  {
   "cell_type": "code",
   "execution_count": 4,
   "id": "370a97d4",
   "metadata": {
    "execution": {
     "iopub.execute_input": "2025-05-08T12:08:09.931334Z",
     "iopub.status.busy": "2025-05-08T12:08:09.930967Z",
     "iopub.status.idle": "2025-05-08T12:08:09.935107Z",
     "shell.execute_reply": "2025-05-08T12:08:09.934194Z"
    },
    "papermill": {
     "duration": 0.009352,
     "end_time": "2025-05-08T12:08:09.936515",
     "exception": false,
     "start_time": "2025-05-08T12:08:09.927163",
     "status": "completed"
    },
    "tags": []
   },
   "outputs": [],
   "source": [
    "# The lines below will show you a hint or the solution.\n",
    "# step_1.hint() \n",
    "# step_1.solution()"
   ]
  },
  {
   "cell_type": "markdown",
   "id": "54a4d01c",
   "metadata": {
    "papermill": {
     "duration": 0.002605,
     "end_time": "2025-05-08T12:08:09.942060",
     "exception": false,
     "start_time": "2025-05-08T12:08:09.939455",
     "status": "completed"
    },
    "tags": []
   },
   "source": [
    "## Step 2: Fit Model Using All Data\n",
    "You know the best tree size. If you were going to deploy this model in practice, you would make it even more accurate by using all of the data and keeping that tree size.  That is, you don't need to hold out the validation data now that you've made all your modeling decisions."
   ]
  },
  {
   "cell_type": "code",
   "execution_count": 5,
   "id": "dd857016",
   "metadata": {
    "execution": {
     "iopub.execute_input": "2025-05-08T12:08:09.948940Z",
     "iopub.status.busy": "2025-05-08T12:08:09.948606Z",
     "iopub.status.idle": "2025-05-08T12:08:09.955718Z",
     "shell.execute_reply": "2025-05-08T12:08:09.954893Z"
    },
    "papermill": {
     "duration": 0.012338,
     "end_time": "2025-05-08T12:08:09.957271",
     "exception": false,
     "start_time": "2025-05-08T12:08:09.944933",
     "status": "completed"
    },
    "tags": []
   },
   "outputs": [
    {
     "data": {
      "application/javascript": [
       "parent.postMessage({\"jupyterEvent\": \"custom.exercise_interaction\", \"data\": {\"outcomeType\": 2, \"failureMessage\": \"You still need to define the following variables: `final_model`\", \"interactionType\": 1, \"questionType\": 2, \"questionId\": \"2_FitModelWithAllData\", \"learnToolsVersion\": \"0.3.5\", \"valueTowardsCompletion\": 0.0, \"exceptionClass\": \"\", \"trace\": \"\"}}, \"*\")"
      ],
      "text/plain": [
       "<IPython.core.display.Javascript object>"
      ]
     },
     "metadata": {},
     "output_type": "display_data"
    },
    {
     "data": {
      "text/markdown": [
       "<span style=\"color:#cc3333\">Incorrect:</span> You still need to define the following variables: `final_model`"
      ],
      "text/plain": [
       "Incorrect: You still need to define the following variables: `final_model`"
      ]
     },
     "metadata": {},
     "output_type": "display_data"
    }
   ],
   "source": [
    "# Fill in argument to make optimal size and uncomment\n",
    "# final_model = DecisionTreeRegressor(____)\n",
    "\n",
    "# fit the final model and uncomment the next two lines\n",
    "# final_model.fit(____, ____)\n",
    "\n",
    "# Check your answer\n",
    "step_2.check()"
   ]
  },
  {
   "cell_type": "code",
   "execution_count": 6,
   "id": "668b7495",
   "metadata": {
    "execution": {
     "iopub.execute_input": "2025-05-08T12:08:09.964878Z",
     "iopub.status.busy": "2025-05-08T12:08:09.964534Z",
     "iopub.status.idle": "2025-05-08T12:08:09.968297Z",
     "shell.execute_reply": "2025-05-08T12:08:09.967563Z"
    },
    "papermill": {
     "duration": 0.009137,
     "end_time": "2025-05-08T12:08:09.969647",
     "exception": false,
     "start_time": "2025-05-08T12:08:09.960510",
     "status": "completed"
    },
    "tags": []
   },
   "outputs": [],
   "source": [
    "# step_2.hint()\n",
    "# step_2.solution()"
   ]
  },
  {
   "cell_type": "markdown",
   "id": "350f6196",
   "metadata": {
    "papermill": {
     "duration": 0.00294,
     "end_time": "2025-05-08T12:08:09.975735",
     "exception": false,
     "start_time": "2025-05-08T12:08:09.972795",
     "status": "completed"
    },
    "tags": []
   },
   "source": [
    "You've tuned this model and improved your results. But we are still using Decision Tree models, which are not very sophisticated by modern machine learning standards. In the next step you will learn to use Random Forests to improve your models even more.\n",
    "\n",
    "# Keep Going\n",
    "\n",
    "You are ready for **[Random Forests](https://www.kaggle.com/dansbecker/random-forests).**\n"
   ]
  },
  {
   "cell_type": "markdown",
   "id": "021bc0a8",
   "metadata": {
    "papermill": {
     "duration": 0.002712,
     "end_time": "2025-05-08T12:08:09.981460",
     "exception": false,
     "start_time": "2025-05-08T12:08:09.978748",
     "status": "completed"
    },
    "tags": []
   },
   "source": [
    "---\n",
    "\n",
    "\n",
    "\n",
    "\n",
    "*Have questions or comments? Visit the [course discussion forum](https://www.kaggle.com/learn/intro-to-machine-learning/discussion) to chat with other learners.*"
   ]
  }
 ],
 "metadata": {
  "kaggle": {
   "accelerator": "none",
   "dataSources": [
    {
     "databundleVersionId": 111096,
     "sourceId": 10211,
     "sourceType": "competition"
    },
    {
     "datasetId": 11167,
     "sourceId": 15520,
     "sourceType": "datasetVersion"
    },
    {
     "datasetId": 2709,
     "sourceId": 38454,
     "sourceType": "datasetVersion"
    }
   ],
   "isGpuEnabled": false,
   "isInternetEnabled": false,
   "language": "python",
   "sourceType": "notebook"
  },
  "kernelspec": {
   "display_name": "Python 3",
   "language": "python",
   "name": "python3"
  },
  "language_info": {
   "codemirror_mode": {
    "name": "ipython",
    "version": 3
   },
   "file_extension": ".py",
   "mimetype": "text/x-python",
   "name": "python",
   "nbconvert_exporter": "python",
   "pygments_lexer": "ipython3",
   "version": "3.11.11"
  },
  "papermill": {
   "default_parameters": {},
   "duration": 9.511172,
   "end_time": "2025-05-08T12:08:10.604535",
   "environment_variables": {},
   "exception": null,
   "input_path": "__notebook__.ipynb",
   "output_path": "__notebook__.ipynb",
   "parameters": {},
   "start_time": "2025-05-08T12:08:01.093363",
   "version": "2.6.0"
  }
 },
 "nbformat": 4,
 "nbformat_minor": 5
}
